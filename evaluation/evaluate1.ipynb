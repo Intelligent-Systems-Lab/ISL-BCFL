{
 "cells": [
  {
   "cell_type": "markdown",
   "metadata": {},
   "source": [
    "# Setup env"
   ]
  },
  {
   "cell_type": "code",
   "execution_count": 1,
   "metadata": {},
   "outputs": [],
   "source": [
    "import torch\n",
    "import torch.nn as nn\n",
    "from torchvision import transforms\n",
    "from torch.utils.data import DataLoader, TensorDataset, Dataset\n",
    "from torch.utils.data.sampler import SubsetRandomSampler\n",
    "from torch import optim\n",
    "import pandas as pd\n",
    "import sys\n",
    "\n",
    "\n",
    "import time\n",
    "import numpy as np\n",
    "from concurrent import futures\n",
    "import logging\n",
    "import grpc\n",
    "import argparse\n",
    "import base64\n",
    "import io\n",
    "import matplotlib.pyplot as plt \n",
    "from tqdm import tqdm"
   ]
  },
  {
   "cell_type": "code",
   "execution_count": 2,
   "metadata": {},
   "outputs": [],
   "source": [
    "def fullmodel2base64(model):\n",
    "    buffer = io.BytesIO()\n",
    "    torch.save(model, buffer)\n",
    "    bg = buffer.getvalue()\n",
    "    return base64.b64encode(bg).decode()\n",
    "\n",
    "def base642fullmodel(modbase64):\n",
    "    inputrpc = bytes(modbase64.encode())\n",
    "    inputrpc_ = base64.b64decode(inputrpc)\n",
    "    loadmodel = torch.load(io.BytesIO(inputrpc_))\n",
    "    return loadmodel"
   ]
  },
  {
   "cell_type": "code",
   "execution_count": 3,
   "metadata": {},
   "outputs": [],
   "source": [
    "class MNISTDataset(Dataset):\n",
    "    \"\"\"MNIST dataset\"\"\"\n",
    "    \n",
    "    def __init__(self, feature, target=None, transform=None):\n",
    "        \n",
    "        self.X = feature\n",
    "        self.y = target\n",
    "            \n",
    "        self.transform = transform\n",
    "    \n",
    "    def __len__(self):\n",
    "        return len(self.X)\n",
    "\n",
    "    def __getitem__(self, idx):\n",
    "        # training\n",
    "        if self.transform is not None:\n",
    "            return self.transform(self.X[idx]), self.y[idx]\n",
    "        # testing\n",
    "        elif self.y is None:\n",
    "            return [self.X[idx]]\n",
    "        # validation\n",
    "        return self.X[idx], self.y[idx]"
   ]
  },
  {
   "cell_type": "code",
   "execution_count": 4,
   "metadata": {},
   "outputs": [],
   "source": [
    "class Model(nn.Module):\n",
    "    def __init__(self):\n",
    "        super().__init__()\n",
    "        \n",
    "        self.cnn = nn.Sequential(nn.Conv2d(in_channels=1, out_channels=32, kernel_size=5),\n",
    "                                     nn.ReLU(inplace=True),\n",
    "                                     nn.Conv2d(in_channels=32, out_channels=32, kernel_size=5),\n",
    "                                     nn.ReLU(inplace=True),\n",
    "                                     nn.MaxPool2d(kernel_size=2),\n",
    "                                     nn.Dropout(0.25),\n",
    "                                     nn.Conv2d(in_channels=32, out_channels=64, kernel_size=3),\n",
    "                                     nn.ReLU(inplace=True),\n",
    "                                     nn.Conv2d(in_channels=64, out_channels=64, kernel_size=3),\n",
    "                                     nn.ReLU(inplace=True),\n",
    "                                     nn.MaxPool2d(kernel_size=2, stride=2),\n",
    "                                     nn.Dropout(0.25))\n",
    "        \n",
    "        self.classifier = nn.Sequential(nn.Linear(576, 256),\n",
    "                                       nn.Dropout(0.5),\n",
    "                                       nn.Linear(256, 10))\n",
    "\n",
    "        \n",
    "    def forward(self, x):\n",
    "        x = self.cnn(x)\n",
    "        x = x.view(x.size(0), -1) # flatten layer\n",
    "        x = self.classifier(x)\n",
    "        \n",
    "        return x"
   ]
  },
  {
   "cell_type": "code",
   "execution_count": 5,
   "metadata": {},
   "outputs": [],
   "source": [
    "def getdataloader(dset = './mnist_test.csv'):\n",
    "    #print(dset)\n",
    "    train = pd.read_csv(dset)\n",
    "\n",
    "    train_labels = train['label'].values\n",
    "    train_data = train.drop(labels = ['label'], axis = 1)\n",
    "    train_data = train_data.values.reshape(-1,28, 28)\n",
    "    \n",
    "    featuresTrain = torch.from_numpy(train_data)\n",
    "    targetsTrain = torch.from_numpy(train_labels)\n",
    "    \n",
    "    data_transform = transforms.Compose([\n",
    "    transforms.ToPILImage(),\n",
    "    transforms.RandomAffine(degrees=45, translate=(0.1, 0.1), scale=(0.8, 1.2)),\n",
    "    transforms.ToTensor()])\n",
    "\n",
    "    train_set = MNISTDataset(featuresTrain.float(), targetsTrain, transform=data_transform)\n",
    "    \n",
    "    trainloader = torch.utils.data.DataLoader(train_set, batch_size = 256, shuffle = True)\n",
    "    return trainloader"
   ]
  },
  {
   "cell_type": "code",
   "execution_count": 6,
   "metadata": {},
   "outputs": [],
   "source": [
    "def read_bcfl_model(txtpath,inipfs=False):\n",
    "    file = open(txtpath,'r')\n",
    "    context = file.readline()\n",
    "    file.close()\n",
    "    lcontext = context.split(',')\n",
    "    models = []\n",
    "    if not inipfs:\n",
    "        for i in lcontext:\n",
    "            models.append(base642fullmodel(i))\n",
    "    else:\n",
    "        print(\"Download...\")\n",
    "        import ipfshttpclient\n",
    "        client = ipfshttpclient.connect(\"/ip4/140.113.164.150/tcp/5001/\")\n",
    "        for i in lcontext:\n",
    "            m = client.cat(i).decode()\n",
    "            models.append(base642fullmodel(m))\n",
    "    return models"
   ]
  },
  {
   "cell_type": "code",
   "execution_count": 7,
   "metadata": {},
   "outputs": [],
   "source": [
    "def acc_plot(models, dataloder, device=\"cpu\"):\n",
    "    \n",
    "    accd = []\n",
    "    for m in tqdm(models):\n",
    "        ans = np.array([])\n",
    "        res = np.array([])\n",
    "        model = m.to(device)\n",
    "        \n",
    "        model.eval()\n",
    "        for data, target in dataloder:\n",
    "            #data = data.view(data.size(0),-1)\n",
    "\n",
    "            output = model(data.float().to(device))\n",
    "\n",
    "            _, preds_tensor = torch.max(output, 1)\n",
    "            preds = np.squeeze(preds_tensor.cpu().numpy())\n",
    "            ans = np.append(ans, np.array(target))\n",
    "            res = np.append(res, np.array(preds))\n",
    "\n",
    "        #getit = 0\n",
    "        #for i in range(len(ans)):\n",
    "        #    if ans[i]==res[i]:\n",
    "        #        getit+=1\n",
    "        #acc = getit/len(ans)\n",
    "        acc = (ans==res).sum()/len(ans)\n",
    "        accd.append(acc)\n",
    "        \n",
    "    return accd"
   ]
  },
  {
   "cell_type": "code",
   "execution_count": 8,
   "metadata": {},
   "outputs": [],
   "source": [
    "# Create first base-model\n",
    "# fullmodel2base64(Model())"
   ]
  },
  {
   "cell_type": "markdown",
   "metadata": {},
   "source": [
    "# BCFL result"
   ]
  },
  {
   "cell_type": "code",
   "execution_count": 9,
   "metadata": {},
   "outputs": [
    {
     "name": "stdout",
     "output_type": "stream",
     "text": [
      "Download...\n"
     ]
    },
    {
     "name": "stderr",
     "output_type": "stream",
     "text": [
      "/opt/conda/lib/python3.6/site-packages/torch/serialization.py:419: UserWarning: Couldn't retrieve source code for container of type Model. It won't be checked for correctness upon loading.\n",
      "  \"type \" + container_type.__name__ + \". It won't be checked \"\n",
      "100%|██████████| 101/101 [02:59<00:00,  1.78s/it]\n"
     ]
    }
   ],
   "source": [
    "dev=torch.device(\"cuda\")\n",
    "test_dloader = getdataloader('./mnist_test.csv')\n",
    "\n",
    "bcfl_acc = acc_plot(read_bcfl_model('./new/100_round_model_id_0.txt',inipfs=True), test_dloader, device=dev)"
   ]
  },
  {
   "cell_type": "code",
   "execution_count": 10,
   "metadata": {},
   "outputs": [
    {
     "data": {
      "text/plain": [
       "[<matplotlib.lines.Line2D at 0x7f95fadeff98>]"
      ]
     },
     "execution_count": 10,
     "metadata": {},
     "output_type": "execute_result"
    },
    {
     "data": {
      "image/png": "[encoded data removed]",
      "text/plain": [
       "<Figure size 432x288 with 1 Axes>"
      ]
     },
     "metadata": {
      "needs_background": "light"
     },
     "output_type": "display_data"
    }
   ],
   "source": [
    "plt.grid(True)\n",
    "plt.ylabel(\"Accuracy\")\n",
    "plt.xlabel(\"Round\")\n",
    "plt.plot(bcfl_acc)"
   ]
  },
  {
   "cell_type": "markdown",
   "metadata": {},
   "source": [
    "# Local training"
   ]
  },
  {
   "cell_type": "code",
   "execution_count": 11,
   "metadata": {},
   "outputs": [],
   "source": [
    "dev=torch.device(\"cuda\")"
   ]
  },
  {
   "cell_type": "code",
   "execution_count": 12,
   "metadata": {},
   "outputs": [],
   "source": [
    "dloader = getdataloader('./mnist_train.csv')\n",
    "test_dloader = getdataloader('./mnist_test.csv')"
   ]
  },
  {
   "cell_type": "code",
   "execution_count": 13,
   "metadata": {},
   "outputs": [],
   "source": [
    "model = Model()\n",
    "\n",
    "optimizer = optim.RMSprop(model.parameters(), lr=0.001)\n",
    "\n",
    "loss_function = nn.CrossEntropyLoss()"
   ]
  },
  {
   "cell_type": "code",
   "execution_count": 14,
   "metadata": {},
   "outputs": [
    {
     "name": "stderr",
     "output_type": "stream",
     "text": [
      "100%|██████████| 100/100 [18:03<00:00, 10.84s/it]\n"
     ]
    }
   ],
   "source": [
    "model.cuda()\n",
    "model.train()\n",
    "\n",
    "models = []\n",
    "\n",
    "for i in tqdm(range(100)):\n",
    "    #print(\"E : \", i)\n",
    "    running_loss = 0\n",
    "    for data, target in dloader:\n",
    "        \n",
    "        data = data.cuda()\n",
    "        target = target.cuda()\n",
    "        optimizer.zero_grad()\n",
    "        #data = data.view(data.size(0),-1)\n",
    "\n",
    "        output = model(data.float())\n",
    "\n",
    "        loss = loss_function(output, target)\n",
    "\n",
    "        loss.backward()\n",
    "\n",
    "        optimizer.step()\n",
    "        \n",
    "        running_loss += loss.item()\n",
    "    models.append(model)\n",
    "    #print(\"loss: \",running_loss/len(dloader))"
   ]
  },
  {
   "cell_type": "code",
   "execution_count": 15,
   "metadata": {},
   "outputs": [
    {
     "name": "stderr",
     "output_type": "stream",
     "text": [
      "100%|██████████| 100/100 [02:34<00:00,  1.55s/it]\n"
     ]
    }
   ],
   "source": [
    "local_acc = acc_plot(models, test_dloader,device=dev)"
   ]
  },
  {
   "cell_type": "code",
   "execution_count": 16,
   "metadata": {},
   "outputs": [
    {
     "data": {
      "text/plain": [
       "[<matplotlib.lines.Line2D at 0x7f95fa7f6048>]"
      ]
     },
     "execution_count": 16,
     "metadata": {},
     "output_type": "execute_result"
    },
    {
     "data": {
      "image/png": "[encoded data removed]",
      "text/plain": [
       "<Figure size 432x288 with 1 Axes>"
      ]
     },
     "metadata": {
      "needs_background": "light"
     },
     "output_type": "display_data"
    }
   ],
   "source": [
    "plt.grid(True)\n",
    "plt.ylabel(\"Accuracy\")\n",
    "plt.xlabel(\"Round\")\n",
    "plt.plot(local_acc)"
   ]
  },
  {
   "cell_type": "markdown",
   "metadata": {},
   "source": [
    "# Compare"
   ]
  },
  {
   "cell_type": "code",
   "execution_count": 17,
   "metadata": {},
   "outputs": [
    {
     "data": {
      "image/png": "[encoded data removed]",
      "text/plain": [
       "<Figure size 432x288 with 1 Axes>"
      ]
     },
     "metadata": {
      "needs_background": "light"
     },
     "output_type": "display_data"
    }
   ],
   "source": [
    "plt.grid(True)\n",
    "plt.ylabel(\"Accuracy\")\n",
    "plt.xlabel(\"Round\")\n",
    "#plt.plot(range(10), bcfl_acc[:10], range(10), local_acc[:10])\n",
    "plt.plot(range(100), bcfl_acc[:100], color='red', label='BCFL')\n",
    "plt.plot(range(100), local_acc[:100], color='green', label='LOCAL')\n",
    "plt.legend()\n",
    "\n",
    "plt.show()"
   ]
  },
  {
   "cell_type": "code",
   "execution_count": null,
   "metadata": {},
   "outputs": [],
   "source": []
  }
 ],
 "metadata": {
  "kernelspec": {
   "display_name": "Python 3",
   "language": "python",
   "name": "python3"
  },
  "language_info": {
   "codemirror_mode": {
    "name": "ipython",
    "version": 3
   },
   "file_extension": ".py",
   "mimetype": "text/x-python",
   "name": "python",
   "nbconvert_exporter": "python",
   "pygments_lexer": "ipython3",
   "version": "3.6.7"
  }
 },
 "nbformat": 4,
 "nbformat_minor": 4
}
